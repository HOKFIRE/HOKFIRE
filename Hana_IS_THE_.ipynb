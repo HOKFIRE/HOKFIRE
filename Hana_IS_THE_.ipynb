{
  "nbformat": 4,
  "nbformat_minor": 0,
  "metadata": {
    "colab": {
      "provenance": [],
      "authorship_tag": "ABX9TyPI3DYx2ynvM9lbGlVRblo4",
      "include_colab_link": true
    },
    "kernelspec": {
      "name": "python3",
      "display_name": "Python 3"
    },
    "language_info": {
      "name": "python"
    }
  },
  "cells": [
    {
      "cell_type": "markdown",
      "metadata": {
        "id": "view-in-github",
        "colab_type": "text"
      },
      "source": [
        "<a href=\"https://colab.research.google.com/github/HOKFIRE/HOKFIRE/blob/main/Hana_IS_THE_.ipynb\" target=\"_parent\"><img src=\"https://colab.research.google.com/assets/colab-badge.svg\" alt=\"Open In Colab\"/></a>"
      ]
    },
    {
      "cell_type": "code",
      "execution_count": null,
      "metadata": {
        "colab": {
          "base_uri": "https://localhost:8080/"
        },
        "id": "Kcs4vIchkbdP",
        "outputId": "b8a7e24b-6004-429a-a6fe-d81d9e4bdd03"
      },
      "outputs": [
        {
          "output_type": "stream",
          "name": "stdout",
          "text": [
            "HANA.....IS THE GOD OF EVERYTHING!! 😏 ᕙ(⇀‸↼‶)ᕗ SHE IS THE BEST....SHE IS THE SMARTEST......SHE IS THE FASTEST......SHE IS THE BEST OF THE BEST OF THE BEST OF THE BEST OF THE BEST OF EVERYTHING!!! 😎ᕙ (° ~ ° ~)\n"
          ]
        }
      ],
      "source": [
        "def hana():\n",
        "  print(\"HANA.....IS THE GOD OF EVERYTHING!! 😏 ᕙ(⇀‸↼‶)ᕗ SHE IS THE BEST....SHE IS THE SMARTEST......SHE IS THE FASTEST......SHE IS THE BEST OF THE BEST OF THE BEST OF THE BEST OF THE BEST OF EVERYTHING!!! 😎ᕙ (° ~ ° ~)\")\n",
        "hana()"
      ]
    }
  ]
}